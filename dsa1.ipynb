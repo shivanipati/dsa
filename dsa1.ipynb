{
 "cells": [
  {
   "cell_type": "code",
   "execution_count": 111,
   "id": "f9658359",
   "metadata": {},
   "outputs": [],
   "source": [
    "import ctypes\n"
   ]
  },
  {
   "cell_type": "code",
   "execution_count": 112,
   "id": "0c3ac991",
   "metadata": {},
   "outputs": [],
   "source": [
    "class Meralist:\n",
    "    def __init__(self):\n",
    "        self.size =1\n",
    "        self.n =0\n",
    "        #create c type array with size = self.size\n",
    "        self.A= self.__make_array(self.size)\n",
    "        \n",
    "    def __len__(self):\n",
    "        return self.n\n",
    "    \n",
    "    \n",
    "    def __str__(self):\n",
    "        #[1,2,3]\n",
    "        result =''\n",
    "        for i in range(self.n):\n",
    "            result=result + str(self.A[i]) + ','\n",
    "        return \"[\" + result[:-1] + \"]\"\n",
    "    \n",
    "    def __getitem__(self,index):\n",
    "        if 0<= index < self.n:\n",
    "            return self.A[index]\n",
    "        else:\n",
    "            return 'IndexError -- out of range '\n",
    "            \n",
    "    def append(self,item):\n",
    "        if self.n == self.size:\n",
    "            #resize\n",
    "            self.__resize(self.size*2)\n",
    "            \n",
    "        #append\n",
    "        self.A[self.n]=item\n",
    "        self.n = self.n+1 \n",
    "        \n",
    "        \n",
    "    def pop(self):\n",
    "        if self.n == 0:\n",
    "            return \"Empty list\"\n",
    "        print(self.A[self.n-1])\n",
    "        self.n = self.n-1\n",
    "        \n",
    "        \n",
    "    def clear(self):\n",
    "        self.n = 0\n",
    "        self.size = 1\n",
    "        \n",
    "        \n",
    "    def find(self,item ):\n",
    "        for i in range(self.n):\n",
    "            if self.A[i] == item:\n",
    "                return i\n",
    "        return \"ValueError  not in list \"\n",
    "    \n",
    "    \n",
    "    def insert(self,pos,item):\n",
    "        if 0<=pos < self.n:\n",
    "            if self.n == self.size:\n",
    "                self.__resize(self.size*2)\n",
    "                \n",
    "            for i in range(self.n,pos,-1):\n",
    "                self.A[i] = self.A[i-1]\n",
    "                \n",
    "            self.A[pos] = item\n",
    "            self.n = self.n+1\n",
    "        else:\n",
    "            return \"Index Error\"\n",
    "        \n",
    "        \n",
    "    def __delitem__(self,pos):\n",
    "        if 0 <= pos < self.n:\n",
    "            for i in range(pos,self.n-1):\n",
    "                self.A[i] = self.A[i+1]\n",
    "                \n",
    "            self.n = self.n - 1\n",
    "            \n",
    "            \n",
    "            \n",
    "    def remove(self,item):\n",
    "        pos = self.find(item)\n",
    "        if type(pos) == int:\n",
    "            #delet\n",
    "            self.__delitem__(pos)\n",
    "        else:\n",
    "            return pos\n",
    "         \n",
    "            \n",
    "    \n",
    "        \n",
    "    def __resize(self,new_capacity):\n",
    "        B = self.__make_array(new_capacity)\n",
    "        \n",
    "        self.size = new_capacity\n",
    "        \n",
    "        #copy the content a and b\n",
    "        for i in range(self.n):\n",
    "            B[i]= self.A[i]\n",
    "            \n",
    "        #reassing\n",
    "        self.A = B\n",
    "        \n",
    "        \n",
    "        \n",
    "    def __make_array(self,capacity):\n",
    "        return (capacity*ctypes.py_object)()\n",
    "    "
   ]
  },
  {
   "cell_type": "code",
   "execution_count": 113,
   "id": "125633d2",
   "metadata": {},
   "outputs": [],
   "source": [
    "L = Meralist()"
   ]
  },
  {
   "cell_type": "code",
   "execution_count": 114,
   "id": "46bcf258",
   "metadata": {},
   "outputs": [],
   "source": [
    "L.append(\"hello\")\n",
    "L.append(\"shivani\")\n",
    "L.append(24)\n",
    "L.append(60)"
   ]
  },
  {
   "cell_type": "code",
   "execution_count": 115,
   "id": "5f2cefd1",
   "metadata": {},
   "outputs": [],
   "source": [
    "L.remove(60)"
   ]
  },
  {
   "cell_type": "code",
   "execution_count": 116,
   "id": "15d4bc1a",
   "metadata": {},
   "outputs": [
    {
     "name": "stdout",
     "output_type": "stream",
     "text": [
      "[hello,shivani,24]\n"
     ]
    }
   ],
   "source": [
    "print(L)"
   ]
  },
  {
   "cell_type": "code",
   "execution_count": 21,
   "id": "c05c26a6",
   "metadata": {},
   "outputs": [
    {
     "data": {
      "text/plain": [
       "[10, 20, 30, 40, 'hello']"
      ]
     },
     "execution_count": 21,
     "metadata": {},
     "output_type": "execute_result"
    }
   ],
   "source": [
    "l.append(\"hello\")\n",
    "l"
   ]
  },
  {
   "cell_type": "code",
   "execution_count": 18,
   "id": "b5314fe7",
   "metadata": {},
   "outputs": [
    {
     "name": "stdout",
     "output_type": "stream",
     "text": [
      "['hello']\n"
     ]
    }
   ],
   "source": [
    "print(l)"
   ]
  }
 ],
 "metadata": {
  "kernelspec": {
   "display_name": "Python 3 (ipykernel)",
   "language": "python",
   "name": "python3"
  },
  "language_info": {
   "codemirror_mode": {
    "name": "ipython",
    "version": 3
   },
   "file_extension": ".py",
   "mimetype": "text/x-python",
   "name": "python",
   "nbconvert_exporter": "python",
   "pygments_lexer": "ipython3",
   "version": "3.11.3"
  }
 },
 "nbformat": 4,
 "nbformat_minor": 5
}
